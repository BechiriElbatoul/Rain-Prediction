{
  "nbformat": 4,
  "nbformat_minor": 0,
  "metadata": {
    "colab": {
      "provenance": []
    },
    "kernelspec": {
      "name": "python3",
      "display_name": "Python 3"
    },
    "language_info": {
      "name": "python"
    }
  },
  "cells": [
    {
      "cell_type": "code",
      "source": [
        "!pip install pandas scikit-learn\n"
      ],
      "metadata": {
        "colab": {
          "base_uri": "https://localhost:8080/"
        },
        "id": "ycTrihnhdxFL",
        "outputId": "0e1abfc1-b302-4970-df3a-e63e2ed7f71a"
      },
      "execution_count": null,
      "outputs": [
        {
          "output_type": "stream",
          "name": "stdout",
          "text": [
            "Requirement already satisfied: pandas in /usr/local/lib/python3.10/dist-packages (2.2.2)\n",
            "Requirement already satisfied: scikit-learn in /usr/local/lib/python3.10/dist-packages (1.5.2)\n",
            "Requirement already satisfied: numpy>=1.22.4 in /usr/local/lib/python3.10/dist-packages (from pandas) (1.26.4)\n",
            "Requirement already satisfied: python-dateutil>=2.8.2 in /usr/local/lib/python3.10/dist-packages (from pandas) (2.8.2)\n",
            "Requirement already satisfied: pytz>=2020.1 in /usr/local/lib/python3.10/dist-packages (from pandas) (2024.2)\n",
            "Requirement already satisfied: tzdata>=2022.7 in /usr/local/lib/python3.10/dist-packages (from pandas) (2024.2)\n",
            "Requirement already satisfied: scipy>=1.6.0 in /usr/local/lib/python3.10/dist-packages (from scikit-learn) (1.13.1)\n",
            "Requirement already satisfied: joblib>=1.2.0 in /usr/local/lib/python3.10/dist-packages (from scikit-learn) (1.4.2)\n",
            "Requirement already satisfied: threadpoolctl>=3.1.0 in /usr/local/lib/python3.10/dist-packages (from scikit-learn) (3.5.0)\n",
            "Requirement already satisfied: six>=1.5 in /usr/local/lib/python3.10/dist-packages (from python-dateutil>=2.8.2->pandas) (1.16.0)\n"
          ]
        }
      ]
    },
    {
      "cell_type": "code",
      "source": [
        "import pandas as pd\n",
        "import numpy as np\n",
        "from sklearn.model_selection import train_test_split\n",
        "from sklearn.ensemble import RandomForestClassifier\n",
        "from sklearn.metrics import f1_score\n",
        "from sklearn.preprocessing import LabelEncoder\n",
        "from sklearn.impute import SimpleImputer\n"
      ],
      "metadata": {
        "id": "8NYHJ3JVdzmB"
      },
      "execution_count": null,
      "outputs": []
    },
    {
      "cell_type": "code",
      "source": [
        "train = pd.read_csv('train.csv')\n",
        "test = pd.read_csv('test.csv')\n",
        "sample_submission = pd.read_csv('sample_submission.csv')\n",
        "\n",
        "print(train.head())\n",
        "print(train.info())\n"
      ],
      "metadata": {
        "colab": {
          "base_uri": "https://localhost:8080/"
        },
        "id": "NODdcDUMd1_S",
        "outputId": "3d78cf62-bb09-4a80-aafa-b06dfd533b73"
      },
      "execution_count": null,
      "outputs": [
        {
          "output_type": "stream",
          "name": "stdout",
          "text": [
            "   Day        Date            City  MinTemp  MaxTemp  Rainfall  Evaporation  \\\n",
            "0    0  2010-01-01         Algiers     19.4     31.9       5.0          NaN   \n",
            "1    1  2010-01-02           Setif     18.6     29.1      12.4          NaN   \n",
            "2    2  2010-01-03  Sidi Bel Abbes     12.2     29.7       0.0          NaN   \n",
            "3    3  2010-01-04          Skikda     14.8     32.8       0.0          NaN   \n",
            "4    4  2010-01-05          Skikda     15.0     35.8       0.0          NaN   \n",
            "\n",
            "   Sunshine WindGustDir  WindGustSpeed  ... Humidity9am Humidity3pm  \\\n",
            "0       NaN         NNE           39.0  ...        70.0        40.0   \n",
            "1       NaN           W           56.0  ...        88.0        48.0   \n",
            "2       NaN           W           30.0  ...        57.0        32.0   \n",
            "3       NaN          SW           30.0  ...        55.0        24.0   \n",
            "4       NaN           W           46.0  ...        46.0        13.0   \n",
            "\n",
            "   Pressure9am  Pressure3pm  Cloud9am  Cloud3pm  Temp9am  Temp3pm  RainToday  \\\n",
            "0       1012.2       1008.5       NaN       1.0     23.4     30.9        Yes   \n",
            "1       1007.8       1006.2       5.0       NaN     20.6     28.0        Yes   \n",
            "2       1014.4       1012.5       NaN       NaN     18.0     28.0         No   \n",
            "3       1017.5       1013.6       NaN       NaN     21.3     30.6         No   \n",
            "4       1014.9       1011.5       NaN       NaN     23.3     34.9         No   \n",
            "\n",
            "   RainTomorrow  \n",
            "0           Yes  \n",
            "1            No  \n",
            "2            No  \n",
            "3            No  \n",
            "4            No  \n",
            "\n",
            "[5 rows x 24 columns]\n",
            "<class 'pandas.core.frame.DataFrame'>\n",
            "RangeIndex: 76672 entries, 0 to 76671\n",
            "Data columns (total 24 columns):\n",
            " #   Column         Non-Null Count  Dtype  \n",
            "---  ------         --------------  -----  \n",
            " 0   Day            76672 non-null  int64  \n",
            " 1   Date           76672 non-null  object \n",
            " 2   City           76672 non-null  object \n",
            " 3   MinTemp        76453 non-null  float64\n",
            " 4   MaxTemp        76478 non-null  float64\n",
            " 5   Rainfall       76672 non-null  float64\n",
            " 6   Evaporation    46996 non-null  float64\n",
            " 7   Sunshine       44312 non-null  float64\n",
            " 8   WindGustDir    71517 non-null  object \n",
            " 9   WindGustSpeed  71554 non-null  float64\n",
            " 10  WindDir9am     70965 non-null  object \n",
            " 11  WindDir3pm     75134 non-null  object \n",
            " 12  WindSpeed9am   76081 non-null  float64\n",
            " 13  WindSpeed3pm   75872 non-null  float64\n",
            " 14  Humidity9am    75811 non-null  float64\n",
            " 15  Humidity3pm    75834 non-null  float64\n",
            " 16  Pressure9am    69106 non-null  float64\n",
            " 17  Pressure3pm    69081 non-null  float64\n",
            " 18  Cloud9am       48471 non-null  float64\n",
            " 19  Cloud3pm       47717 non-null  float64\n",
            " 20  Temp9am        76203 non-null  float64\n",
            " 21  Temp3pm        76201 non-null  float64\n",
            " 22  RainToday      76672 non-null  object \n",
            " 23  RainTomorrow   76672 non-null  object \n",
            "dtypes: float64(16), int64(1), object(7)\n",
            "memory usage: 14.0+ MB\n",
            "None\n"
          ]
        }
      ]
    },
    {
      "cell_type": "code",
      "source": [
        "numerical_cols = train.select_dtypes(include=['float64', 'int64']).columns\n",
        "categorical_cols = train.select_dtypes(include=['object']).columns\n",
        "\n",
        "categorical_cols = categorical_cols.drop('RainTomorrow')\n",
        "\n",
        "imputer_num = SimpleImputer(strategy='median')\n",
        "train[numerical_cols] = imputer_num.fit_transform(train[numerical_cols])\n",
        "test[numerical_cols] = imputer_num.transform(test[numerical_cols])\n",
        "\n",
        "imputer_cat = SimpleImputer(strategy='most_frequent')\n",
        "train[categorical_cols] = imputer_cat.fit_transform(train[categorical_cols])\n",
        "test[categorical_cols] = imputer_cat.transform(test[categorical_cols])\n",
        "\n",
        "print(train.isnull().sum())\n",
        "print(test.isnull().sum())\n"
      ],
      "metadata": {
        "colab": {
          "base_uri": "https://localhost:8080/"
        },
        "id": "EoSQ9pS5d6Ua",
        "outputId": "3c5443a0-250d-4946-a32f-dda13b985210"
      },
      "execution_count": null,
      "outputs": [
        {
          "output_type": "stream",
          "name": "stdout",
          "text": [
            "Day              0\n",
            "Date             0\n",
            "City             0\n",
            "MinTemp          0\n",
            "MaxTemp          0\n",
            "Rainfall         0\n",
            "Evaporation      0\n",
            "Sunshine         0\n",
            "WindGustDir      0\n",
            "WindGustSpeed    0\n",
            "WindDir9am       0\n",
            "WindDir3pm       0\n",
            "WindSpeed9am     0\n",
            "WindSpeed3pm     0\n",
            "Humidity9am      0\n",
            "Humidity3pm      0\n",
            "Pressure9am      0\n",
            "Pressure3pm      0\n",
            "Cloud9am         0\n",
            "Cloud3pm         0\n",
            "Temp9am          0\n",
            "Temp3pm          0\n",
            "RainToday        0\n",
            "RainTomorrow     0\n",
            "dtype: int64\n",
            "Day              0\n",
            "Date             0\n",
            "City             0\n",
            "MinTemp          0\n",
            "MaxTemp          0\n",
            "Rainfall         0\n",
            "Evaporation      0\n",
            "Sunshine         0\n",
            "WindGustDir      0\n",
            "WindGustSpeed    0\n",
            "WindDir9am       0\n",
            "WindDir3pm       0\n",
            "WindSpeed9am     0\n",
            "WindSpeed3pm     0\n",
            "Humidity9am      0\n",
            "Humidity3pm      0\n",
            "Pressure9am      0\n",
            "Pressure3pm      0\n",
            "Cloud9am         0\n",
            "Cloud3pm         0\n",
            "Temp9am          0\n",
            "Temp3pm          0\n",
            "RainToday        0\n",
            "dtype: int64\n"
          ]
        }
      ]
    },
    {
      "cell_type": "code",
      "source": [
        "le = LabelEncoder()\n",
        "train['RainTomorrow'] = le.fit_transform(train['RainTomorrow'])\n",
        "\n",
        "if 'RainToday' in train.columns:\n",
        "    train['RainToday'] = le.fit_transform(train['RainToday'])\n",
        "\n",
        "if 'RainToday' in test.columns:\n",
        "    test['RainToday'] = le.transform(test['RainToday'])\n",
        "\n",
        "train = pd.get_dummies(train, columns=['City', 'WindGustDir', 'WindDir9am', 'WindDir3pm'], drop_first=True)\n",
        "test = pd.get_dummies(test, columns=['City', 'WindGustDir', 'WindDir9am', 'WindDir3pm'], drop_first=True)\n",
        "\n",
        "test = test.reindex(columns=train.columns, fill_value=0)\n",
        "\n",
        "if 'RainTomorrow' in test.columns:\n",
        "    test.drop('RainTomorrow', axis=1, inplace=True)"
      ],
      "metadata": {
        "id": "yOFXNEVoeM-0"
      },
      "execution_count": null,
      "outputs": []
    },
    {
      "cell_type": "code",
      "source": [
        "X = train.drop(['RainTomorrow', 'Date'], axis=1)\n",
        "y = train['RainTomorrow']\n",
        "\n",
        "print(\"Features after dropping 'RainTomorrow' and 'Date':\")\n",
        "print(X.columns)\n",
        "\n",
        "X_train, X_val, y_train, y_val = train_test_split(X, y, test_size=0.2, random_state=42)\n",
        "\n",
        "print(f\"Training data shape: {X_train.shape}, Training labels shape: {y_train.shape}\")\n",
        "print(f\"Validation data shape: {X_val.shape}, Validation labels shape: {y_val.shape}\")\n"
      ],
      "metadata": {
        "colab": {
          "base_uri": "https://localhost:8080/"
        },
        "id": "Xm_plXE0eeAx",
        "outputId": "3fd49433-efae-4fa3-da9f-0450a4285542"
      },
      "execution_count": null,
      "outputs": [
        {
          "output_type": "stream",
          "name": "stdout",
          "text": [
            "Features after dropping 'RainTomorrow' and 'Date':\n",
            "Index(['Day', 'MinTemp', 'MaxTemp', 'Rainfall', 'Evaporation', 'Sunshine',\n",
            "       'WindGustSpeed', 'WindSpeed9am', 'WindSpeed3pm', 'Humidity9am',\n",
            "       'Humidity3pm', 'Pressure9am', 'Pressure3pm', 'Cloud9am', 'Cloud3pm',\n",
            "       'Temp9am', 'Temp3pm', 'RainToday', 'City_Annaba', 'City_Batna',\n",
            "       'City_Bejaia', 'City_Blida', 'City_Constantine', 'City_Oran',\n",
            "       'City_Setif', 'City_Sidi Bel Abbes', 'City_Skikda', 'WindGustDir_ENE',\n",
            "       'WindGustDir_ESE', 'WindGustDir_N', 'WindGustDir_NE', 'WindGustDir_NNE',\n",
            "       'WindGustDir_NNW', 'WindGustDir_NW', 'WindGustDir_S', 'WindGustDir_SE',\n",
            "       'WindGustDir_SSE', 'WindGustDir_SSW', 'WindGustDir_SW', 'WindGustDir_W',\n",
            "       'WindGustDir_WNW', 'WindGustDir_WSW', 'WindDir9am_ENE',\n",
            "       'WindDir9am_ESE', 'WindDir9am_N', 'WindDir9am_NE', 'WindDir9am_NNE',\n",
            "       'WindDir9am_NNW', 'WindDir9am_NW', 'WindDir9am_S', 'WindDir9am_SE',\n",
            "       'WindDir9am_SSE', 'WindDir9am_SSW', 'WindDir9am_SW', 'WindDir9am_W',\n",
            "       'WindDir9am_WNW', 'WindDir9am_WSW', 'WindDir3pm_ENE', 'WindDir3pm_ESE',\n",
            "       'WindDir3pm_N', 'WindDir3pm_NE', 'WindDir3pm_NNE', 'WindDir3pm_NNW',\n",
            "       'WindDir3pm_NW', 'WindDir3pm_S', 'WindDir3pm_SE', 'WindDir3pm_SSE',\n",
            "       'WindDir3pm_SSW', 'WindDir3pm_SW', 'WindDir3pm_W', 'WindDir3pm_WNW',\n",
            "       'WindDir3pm_WSW'],\n",
            "      dtype='object')\n",
            "Training data shape: (61337, 72), Training labels shape: (61337,)\n",
            "Validation data shape: (15335, 72), Validation labels shape: (15335,)\n"
          ]
        }
      ]
    },
    {
      "cell_type": "code",
      "source": [
        "model = RandomForestClassifier(random_state=42)\n",
        "\n",
        "model.fit(X_train, y_train)\n",
        "\n",
        "y_pred = model.predict(X_val)\n",
        "\n",
        "f1 = f1_score(y_val, y_pred)\n",
        "\n",
        "print(f'F1 Score on the validation set: {f1:.4f}')\n"
      ],
      "metadata": {
        "colab": {
          "base_uri": "https://localhost:8080/"
        },
        "id": "XgVbAZydee45",
        "outputId": "232a2bdb-4c90-488c-d57e-5e54e3607e39"
      },
      "execution_count": null,
      "outputs": [
        {
          "output_type": "stream",
          "name": "stdout",
          "text": [
            "F1 Score on the validation set: 0.6136\n"
          ]
        }
      ]
    },
    {
      "cell_type": "code",
      "source": [
        "from xgboost import XGBClassifier\n",
        "from imblearn.over_sampling import SMOTE\n",
        "from sklearn.metrics import f1_score\n",
        "\n",
        "smote = SMOTE(random_state=42)\n",
        "X_train_resampled, y_train_resampled = smote.fit_resample(X_train, y_train)\n",
        "\n",
        "xgb = XGBClassifier(eval_metric='logloss', random_state=42)\n",
        "xgb.fit(X_train_resampled, y_train_resampled)\n",
        "\n",
        "y_val_pred = xgb.predict(X_val)\n",
        "\n",
        "f1 = f1_score(y_val, y_val_pred)\n",
        "print(\"F1 Score on the validation set: {:.4f}\".format(f1))\n"
      ],
      "metadata": {
        "colab": {
          "base_uri": "https://localhost:8080/"
        },
        "id": "cI0l8Xw0e206",
        "outputId": "f64e43a0-32b0-45a4-d21f-3e67f5cbfb0e"
      },
      "execution_count": null,
      "outputs": [
        {
          "output_type": "stream",
          "name": "stdout",
          "text": [
            "F1 Score on the validation set: 0.6355\n"
          ]
        }
      ]
    },
    {
      "cell_type": "code",
      "source": [
        "test = test.reindex(columns=X.columns, fill_value=0)\n",
        "test.drop('Date', axis=1, inplace=True, errors='ignore')\n",
        "\n",
        "predictions = model.predict(test)\n",
        "\n",
        "predictions_labels = le.inverse_transform(predictions)\n",
        "\n",
        "submission_df = pd.DataFrame({\n",
        "    'Day': test['Day'].values,\n",
        "    'RainTomorrow': predictions_labels\n",
        "})\n",
        "\n",
        "submission_df.to_csv('submission.csv', index=False)\n",
        "\n",
        "print(submission_df.head(20))\n"
      ],
      "metadata": {
        "colab": {
          "base_uri": "https://localhost:8080/"
        },
        "id": "vaNjVNK61YRn",
        "outputId": "34710003-7d8c-4f4c-9c58-95d1503a4651"
      },
      "execution_count": null,
      "outputs": [
        {
          "output_type": "stream",
          "name": "stdout",
          "text": [
            "        Day RainTomorrow\n",
            "0   76672.0           No\n",
            "1   76673.0           No\n",
            "2   76674.0           No\n",
            "3   76675.0           No\n",
            "4   76676.0           No\n",
            "5   76677.0           No\n",
            "6   76678.0           No\n",
            "7   76679.0           No\n",
            "8   76680.0           No\n",
            "9   76681.0          Yes\n",
            "10  76682.0           No\n",
            "11  76683.0           No\n",
            "12  76684.0          Yes\n",
            "13  76685.0           No\n",
            "14  76686.0           No\n",
            "15  76687.0           No\n",
            "16  76688.0           No\n",
            "17  76689.0           No\n",
            "18  76690.0           No\n",
            "19  76691.0           No\n"
          ]
        }
      ]
    },
    {
      "cell_type": "code",
      "source": [],
      "metadata": {
        "id": "_ZvZxAH-nBe3"
      },
      "execution_count": null,
      "outputs": []
    },
    {
      "cell_type": "code",
      "source": [
        "print(submission_df.shape)\n"
      ],
      "metadata": {
        "colab": {
          "base_uri": "https://localhost:8080/"
        },
        "id": "d1TSOk853s0i",
        "outputId": "f1492349-81c2-4c9e-d172-3b6fbd58dae4"
      },
      "execution_count": null,
      "outputs": [
        {
          "output_type": "stream",
          "name": "stdout",
          "text": [
            "(32317, 2)\n"
          ]
        }
      ]
    }
  ]
}